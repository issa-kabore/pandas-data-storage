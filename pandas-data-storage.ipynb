{
 "cells": [
  {
   "cell_type": "code",
   "execution_count": 1,
   "metadata": {},
   "outputs": [],
   "source": [
    "import pandas as pd\n",
    "import numpy as np"
   ]
  },
  {
   "attachments": {},
   "cell_type": "markdown",
   "metadata": {},
   "source": [
    "## Create dataset"
   ]
  },
  {
   "cell_type": "code",
   "execution_count": 21,
   "metadata": {},
   "outputs": [
    {
     "data": {
      "text/html": [
       "<div>\n",
       "<style scoped>\n",
       "    .dataframe tbody tr th:only-of-type {\n",
       "        vertical-align: middle;\n",
       "    }\n",
       "\n",
       "    .dataframe tbody tr th {\n",
       "        vertical-align: top;\n",
       "    }\n",
       "\n",
       "    .dataframe thead th {\n",
       "        text-align: right;\n",
       "    }\n",
       "</style>\n",
       "<table border=\"1\" class=\"dataframe\">\n",
       "  <thead>\n",
       "    <tr style=\"text-align: right;\">\n",
       "      <th></th>\n",
       "      <th>size</th>\n",
       "      <th>age</th>\n",
       "      <th>team</th>\n",
       "      <th>win</th>\n",
       "      <th>date</th>\n",
       "      <th>prob</th>\n",
       "    </tr>\n",
       "  </thead>\n",
       "  <tbody>\n",
       "    <tr>\n",
       "      <th>0</th>\n",
       "      <td>big</td>\n",
       "      <td>49</td>\n",
       "      <td>blue</td>\n",
       "      <td>yes</td>\n",
       "      <td>2021-12-12</td>\n",
       "      <td>0.074077</td>\n",
       "    </tr>\n",
       "    <tr>\n",
       "      <th>1</th>\n",
       "      <td>big</td>\n",
       "      <td>14</td>\n",
       "      <td>green</td>\n",
       "      <td>no</td>\n",
       "      <td>2021-11-17</td>\n",
       "      <td>0.231078</td>\n",
       "    </tr>\n",
       "    <tr>\n",
       "      <th>2</th>\n",
       "      <td>medium</td>\n",
       "      <td>48</td>\n",
       "      <td>green</td>\n",
       "      <td>yes</td>\n",
       "      <td>2021-10-16</td>\n",
       "      <td>0.033506</td>\n",
       "    </tr>\n",
       "    <tr>\n",
       "      <th>3</th>\n",
       "      <td>big</td>\n",
       "      <td>41</td>\n",
       "      <td>yellow</td>\n",
       "      <td>no</td>\n",
       "      <td>2022-11-12</td>\n",
       "      <td>0.396516</td>\n",
       "    </tr>\n",
       "    <tr>\n",
       "      <th>4</th>\n",
       "      <td>small</td>\n",
       "      <td>42</td>\n",
       "      <td>red</td>\n",
       "      <td>yes</td>\n",
       "      <td>2022-06-20</td>\n",
       "      <td>0.390289</td>\n",
       "    </tr>\n",
       "  </tbody>\n",
       "</table>\n",
       "</div>"
      ],
      "text/plain": [
       "     size  age    team  win       date      prob\n",
       "0     big   49    blue  yes 2021-12-12  0.074077\n",
       "1     big   14   green   no 2021-11-17  0.231078\n",
       "2  medium   48   green  yes 2021-10-16  0.033506\n",
       "3     big   41  yellow   no 2022-11-12  0.396516\n",
       "4   small   42     red  yes 2022-06-20  0.390289"
      ]
     },
     "execution_count": 21,
     "metadata": {},
     "output_type": "execute_result"
    }
   ],
   "source": [
    "def get_dataset(size):\n",
    "    # Create Fake Dataset\n",
    "    df = pd.DataFrame()\n",
    "    df['size'] = np.random.choice(['big','medium','small'], size)\n",
    "    df['age'] = np.random.randint(1, 50, size)\n",
    "    df['team'] = np.random.choice(['red','blue','yellow','green'], size)\n",
    "    df['win'] = np.random.choice(['yes','no'], size)\n",
    "    dates = pd.date_range('2021-01-01', '2023-01-31')\n",
    "    df['date'] = np.random.choice(dates, size)\n",
    "    df['prob'] = np.random.uniform(0, 1, size)\n",
    "    return df\n",
    "\n",
    "def set_dtypes(df):\n",
    "    df['size'] = df['size'].astype('category')\n",
    "    df['team'] = df['team'].astype('category')\n",
    "    df['age'] = df['age'].astype('int16')\n",
    "    df['win'] = df['win'].map({'yes':True, 'no': False})\n",
    "    df['prob'] = df['prob'].astype('float32')\n",
    "    return df\n",
    "\n",
    "data = get_dataset(1_000_000)\n",
    "data.head()"
   ]
  },
  {
   "cell_type": "markdown",
   "metadata": {},
   "source": [
    "## CSV"
   ]
  },
  {
   "cell_type": "code",
   "execution_count": 25,
   "metadata": {},
   "outputs": [
    {
     "name": "stdout",
     "output_type": "stream",
     "text": [
      "Wall time: 4.32 s\n"
     ]
    }
   ],
   "source": [
    "%time data.to_csv(\"test_csv.csv\")"
   ]
  },
  {
   "cell_type": "code",
   "execution_count": 24,
   "metadata": {},
   "outputs": [
    {
     "name": "stdout",
     "output_type": "stream",
     "text": [
      "54M -rw-r--r-- 1 WW930+a844026 54M Feb  1 10:22 test_csv.csv\n"
     ]
    }
   ],
   "source": [
    "!ls -GFlash test_csv.csv"
   ]
  },
  {
   "cell_type": "code",
   "execution_count": 26,
   "metadata": {},
   "outputs": [
    {
     "name": "stdout",
     "output_type": "stream",
     "text": [
      "Wall time: 863 ms\n"
     ]
    }
   ],
   "source": [
    "%time df = pd.read_csv(\"test_csv.csv\", index_col=[0])"
   ]
  },
  {
   "attachments": {},
   "cell_type": "markdown",
   "metadata": {},
   "source": [
    "- 54 MB\n",
    "- 4.32 sec to save\n",
    "- 0.8 sec to read"
   ]
  },
  {
   "cell_type": "code",
   "execution_count": 27,
   "metadata": {},
   "outputs": [
    {
     "name": "stdout",
     "output_type": "stream",
     "text": [
      "Wall time: 3.93 s\n"
     ]
    }
   ],
   "source": [
    "%time data.to_csv(\"test_csv.csv\", index=False)"
   ]
  },
  {
   "cell_type": "code",
   "execution_count": 28,
   "metadata": {},
   "outputs": [
    {
     "name": "stdout",
     "output_type": "stream",
     "text": [
      "47M -rw-r--r-- 1 WW930+a844026 47M Feb  1 10:23 test_csv.csv\n"
     ]
    }
   ],
   "source": [
    "!ls -GFlash test_csv.csv"
   ]
  },
  {
   "cell_type": "code",
   "execution_count": 29,
   "metadata": {},
   "outputs": [
    {
     "name": "stdout",
     "output_type": "stream",
     "text": [
      "Wall time: 743 ms\n"
     ]
    }
   ],
   "source": [
    "%time df = pd.read_csv(\"test_csv.csv\")"
   ]
  },
  {
   "attachments": {},
   "cell_type": "markdown",
   "metadata": {},
   "source": [
    "- 47 MB\n",
    "- 3.9 sec to save\n",
    "- 0.7 sec to read"
   ]
  },
  {
   "attachments": {},
   "cell_type": "markdown",
   "metadata": {},
   "source": [
    "## CSV vs Pickle vs Parquet vs Feather"
   ]
  },
  {
   "cell_type": "code",
   "execution_count": 35,
   "metadata": {},
   "outputs": [
    {
     "name": "stdout",
     "output_type": "stream",
     "text": [
      "<class 'pandas.core.frame.DataFrame'>\n",
      "RangeIndex: 5000000 entries, 0 to 4999999\n",
      "Data columns (total 6 columns):\n",
      " #   Column  Dtype         \n",
      "---  ------  -----         \n",
      " 0   size    category      \n",
      " 1   age     int16         \n",
      " 2   team    category      \n",
      " 3   win     object        \n",
      " 4   date    datetime64[ns]\n",
      " 5   prob    float32       \n",
      "dtypes: category(2), datetime64[ns](1), float32(1), int16(1), object(1)\n",
      "memory usage: 114.4+ MB\n"
     ]
    }
   ],
   "source": [
    "df = get_dataset(5_000_000)\n",
    "df = set_dtypes(data)\n",
    "df.info()"
   ]
  },
  {
   "cell_type": "code",
   "execution_count": 37,
   "metadata": {},
   "outputs": [
    {
     "name": "stdout",
     "output_type": "stream",
     "text": [
      "Reading and writing CSV\n",
      "Wall time: 32 s\n",
      "Wall time: 4.48 s\n"
     ]
    },
    {
     "data": {
      "text/html": [
       "<div>\n",
       "<style scoped>\n",
       "    .dataframe tbody tr th:only-of-type {\n",
       "        vertical-align: middle;\n",
       "    }\n",
       "\n",
       "    .dataframe tbody tr th {\n",
       "        vertical-align: top;\n",
       "    }\n",
       "\n",
       "    .dataframe thead th {\n",
       "        text-align: right;\n",
       "    }\n",
       "</style>\n",
       "<table border=\"1\" class=\"dataframe\">\n",
       "  <thead>\n",
       "    <tr style=\"text-align: right;\">\n",
       "      <th></th>\n",
       "      <th>size</th>\n",
       "      <th>age</th>\n",
       "      <th>team</th>\n",
       "      <th>win</th>\n",
       "      <th>date</th>\n",
       "      <th>prob</th>\n",
       "    </tr>\n",
       "  </thead>\n",
       "  <tbody>\n",
       "    <tr>\n",
       "      <th>0</th>\n",
       "      <td>big</td>\n",
       "      <td>19</td>\n",
       "      <td>green</td>\n",
       "      <td>NaN</td>\n",
       "      <td>2022-08-22</td>\n",
       "      <td>0.617788</td>\n",
       "    </tr>\n",
       "    <tr>\n",
       "      <th>1</th>\n",
       "      <td>big</td>\n",
       "      <td>13</td>\n",
       "      <td>red</td>\n",
       "      <td>NaN</td>\n",
       "      <td>2021-09-26</td>\n",
       "      <td>0.476119</td>\n",
       "    </tr>\n",
       "    <tr>\n",
       "      <th>2</th>\n",
       "      <td>big</td>\n",
       "      <td>9</td>\n",
       "      <td>red</td>\n",
       "      <td>NaN</td>\n",
       "      <td>2022-08-18</td>\n",
       "      <td>0.843716</td>\n",
       "    </tr>\n",
       "    <tr>\n",
       "      <th>3</th>\n",
       "      <td>big</td>\n",
       "      <td>21</td>\n",
       "      <td>blue</td>\n",
       "      <td>NaN</td>\n",
       "      <td>2022-09-02</td>\n",
       "      <td>0.338139</td>\n",
       "    </tr>\n",
       "    <tr>\n",
       "      <th>4</th>\n",
       "      <td>medium</td>\n",
       "      <td>39</td>\n",
       "      <td>yellow</td>\n",
       "      <td>NaN</td>\n",
       "      <td>2022-03-18</td>\n",
       "      <td>0.721077</td>\n",
       "    </tr>\n",
       "  </tbody>\n",
       "</table>\n",
       "</div>"
      ],
      "text/plain": [
       "     size  age    team  win        date      prob\n",
       "0     big   19   green  NaN  2022-08-22  0.617788\n",
       "1     big   13     red  NaN  2021-09-26  0.476119\n",
       "2     big    9     red  NaN  2022-08-18  0.843716\n",
       "3     big   21    blue  NaN  2022-09-02  0.338139\n",
       "4  medium   39  yellow  NaN  2022-03-18  0.721077"
      ]
     },
     "execution_count": 37,
     "metadata": {},
     "output_type": "execute_result"
    }
   ],
   "source": [
    "print('Reading and writing CSV')\n",
    "%time df.to_csv('test.csv', index=False)\n",
    "%time df_csv = pd.read_csv('test.csv')\n",
    "df_csv.head()\n"
   ]
  },
  {
   "cell_type": "code",
   "execution_count": 39,
   "metadata": {},
   "outputs": [
    {
     "name": "stdout",
     "output_type": "stream",
     "text": [
      "Reading and writing Pickle\n",
      "Wall time: 285 ms\n",
      "Wall time: 708 ms\n"
     ]
    }
   ],
   "source": [
    "print('Reading and writing Pickle')\n",
    "%time df.to_pickle('test.pickle')\n",
    "%time df_pickle = pd.read_pickle('test.pickle')\n"
   ]
  },
  {
   "cell_type": "code",
   "execution_count": 40,
   "metadata": {},
   "outputs": [
    {
     "name": "stdout",
     "output_type": "stream",
     "text": [
      "Reading and writing Parquet\n",
      "Wall time: 1.16 s\n",
      "Wall time: 406 ms\n"
     ]
    }
   ],
   "source": [
    "print('Reading and writing Parquet')\n",
    "%time df.to_parquet('test.parquet')\n",
    "%time df_parquet = pd.read_parquet('test.parquet')\n"
   ]
  },
  {
   "cell_type": "code",
   "execution_count": 42,
   "metadata": {},
   "outputs": [
    {
     "name": "stdout",
     "output_type": "stream",
     "text": [
      "Reading and writing Feather\n",
      "Wall time: 723 ms\n",
      "Wall time: 198 ms\n"
     ]
    },
    {
     "data": {
      "text/html": [
       "<div>\n",
       "<style scoped>\n",
       "    .dataframe tbody tr th:only-of-type {\n",
       "        vertical-align: middle;\n",
       "    }\n",
       "\n",
       "    .dataframe tbody tr th {\n",
       "        vertical-align: top;\n",
       "    }\n",
       "\n",
       "    .dataframe thead th {\n",
       "        text-align: right;\n",
       "    }\n",
       "</style>\n",
       "<table border=\"1\" class=\"dataframe\">\n",
       "  <thead>\n",
       "    <tr style=\"text-align: right;\">\n",
       "      <th></th>\n",
       "      <th>size</th>\n",
       "      <th>age</th>\n",
       "      <th>team</th>\n",
       "      <th>win</th>\n",
       "      <th>date</th>\n",
       "      <th>prob</th>\n",
       "    </tr>\n",
       "  </thead>\n",
       "  <tbody>\n",
       "    <tr>\n",
       "      <th>0</th>\n",
       "      <td>big</td>\n",
       "      <td>19</td>\n",
       "      <td>green</td>\n",
       "      <td>None</td>\n",
       "      <td>2022-08-22</td>\n",
       "      <td>0.617788</td>\n",
       "    </tr>\n",
       "    <tr>\n",
       "      <th>1</th>\n",
       "      <td>big</td>\n",
       "      <td>13</td>\n",
       "      <td>red</td>\n",
       "      <td>None</td>\n",
       "      <td>2021-09-26</td>\n",
       "      <td>0.476119</td>\n",
       "    </tr>\n",
       "    <tr>\n",
       "      <th>2</th>\n",
       "      <td>big</td>\n",
       "      <td>9</td>\n",
       "      <td>red</td>\n",
       "      <td>None</td>\n",
       "      <td>2022-08-18</td>\n",
       "      <td>0.843716</td>\n",
       "    </tr>\n",
       "    <tr>\n",
       "      <th>3</th>\n",
       "      <td>big</td>\n",
       "      <td>21</td>\n",
       "      <td>blue</td>\n",
       "      <td>None</td>\n",
       "      <td>2022-09-02</td>\n",
       "      <td>0.338139</td>\n",
       "    </tr>\n",
       "    <tr>\n",
       "      <th>4</th>\n",
       "      <td>medium</td>\n",
       "      <td>39</td>\n",
       "      <td>yellow</td>\n",
       "      <td>None</td>\n",
       "      <td>2022-03-18</td>\n",
       "      <td>0.721077</td>\n",
       "    </tr>\n",
       "  </tbody>\n",
       "</table>\n",
       "</div>"
      ],
      "text/plain": [
       "     size  age    team   win       date      prob\n",
       "0     big   19   green  None 2022-08-22  0.617788\n",
       "1     big   13     red  None 2021-09-26  0.476119\n",
       "2     big    9     red  None 2022-08-18  0.843716\n",
       "3     big   21    blue  None 2022-09-02  0.338139\n",
       "4  medium   39  yellow  None 2022-03-18  0.721077"
      ]
     },
     "execution_count": 42,
     "metadata": {},
     "output_type": "execute_result"
    }
   ],
   "source": [
    "print('Reading and writing Feather')\n",
    "%time df.to_feather('test.feather')\n",
    "%time df_feather = pd.read_feather('test.feather')\n",
    "df_feather.head()"
   ]
  },
  {
   "cell_type": "code",
   "execution_count": 45,
   "metadata": {},
   "outputs": [
    {
     "name": "stdout",
     "output_type": "stream",
     "text": [
      "180M -rw-r--r-- 1 WW930+a844026 180M Feb  1 10:49 test.csv\n",
      " 48M -rw-r--r-- 1 WW930+a844026  48M Feb  1 10:50 test.feather\n",
      " 32M -rw-r--r-- 1 WW930+a844026  32M Feb  1 10:49 test.parquet\n",
      "120M -rw-r--r-- 1 WW930+a844026 120M Feb  1 10:49 test.pickle\n"
     ]
    }
   ],
   "source": [
    "!ls -GFlash test.csv test.pickle test.parquet test.feather"
   ]
  },
  {
   "cell_type": "code",
   "execution_count": 46,
   "metadata": {},
   "outputs": [],
   "source": [
    "!rm -rf test.csv test.pickle test.parquet test.feather"
   ]
  }
 ],
 "metadata": {
  "kernelspec": {
   "display_name": "base",
   "language": "python",
   "name": "python3"
  },
  "language_info": {
   "codemirror_mode": {
    "name": "ipython",
    "version": 3
   },
   "file_extension": ".py",
   "mimetype": "text/x-python",
   "name": "python",
   "nbconvert_exporter": "python",
   "pygments_lexer": "ipython3",
   "version": "3.9.7"
  },
  "orig_nbformat": 4,
  "vscode": {
   "interpreter": {
    "hash": "b1e9c90fab023ea0c8ba91a17efd3956c25debe21536fc0cee336e09bae0ab79"
   }
  }
 },
 "nbformat": 4,
 "nbformat_minor": 2
}
